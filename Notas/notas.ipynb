{
 "cells": [
  {
   "cell_type": "markdown",
   "id": "b76695db-6f67-453a-82d0-e02f68ce6cf1",
   "metadata": {},
   "source": [
    "# Notas sobre desarrollo de software en python\n",
    "## Version beta\n",
    "Se incluiran los apuntes tomados durante las clases ordenadosconforme al temario\n",
    "Actualmente este notebook solo es una versión preliminar :D"
   ]
  },
  {
   "cell_type": "markdown",
   "id": "92abd6a6-496b-48ed-add2-c74c1791cda6",
   "metadata": {},
   "source": [
    "### POO\n",
    "Definimos la clase 'Node'"
   ]
  },
  {
   "cell_type": "code",
   "execution_count": null,
   "id": "ac01bdc7-a35e-4fef-a5e7-86c293c90d06",
   "metadata": {},
   "outputs": [],
   "source": [
    "class Node:\n",
    "    def __init__(self, data, next):\n",
    "        self.data = data\n",
    "        self.next = next\n",
    "    def __repr__(self):\n",
    "        return str(self.data)\n"
   ]
  },
  {
   "cell_type": "markdown",
   "id": "77ba77fe-9b2d-4a40-94ff-157a8b8e1afd",
   "metadata": {},
   "source": [
    "Definimos a 'a' como un 'node'"
   ]
  },
  {
   "cell_type": "code",
   "execution_count": null,
   "id": "bfc38b9c-b5b4-47c7-9064-bbed66bd5b61",
   "metadata": {},
   "outputs": [],
   "source": [
    "a = Node(3, None)"
   ]
  },
  {
   "cell_type": "markdown",
   "id": "b5efeeaa-42d7-4886-97af-05aafd0ded35",
   "metadata": {},
   "source": [
    "Definimos una nueva clase"
   ]
  },
  {
   "cell_type": "code",
   "execution_count": null,
   "id": "936f7967-5f18-4a2f-9f96-8abeecbcd165",
   "metadata": {},
   "outputs": [],
   "source": [
    "class SingleLinkedList:\n",
    "    def __init__(self, array = None):\n",
    "        self.head = None\n",
    "        self.size = 0\n",
    "        self.tail = None\n",
    "        if array:\n",
    "            for element in array:\n",
    "                self.append(element)\n",
    "    \n",
    "    def append(self, element):\n",
    "        node = Node(element)\n",
    "        if not self.head:\n",
    "            self.head = node\n",
    "        else: \n",
    "            if not self.tail:\n",
    "                self.tail = node\n",
    "            current = self.head\n",
    "            while current.next:\n",
    "                current = current.next\n",
    "            current.next = node\n",
    "        self.size += 1\n",
    "    def __reor__(self):\n",
    "        current = self.head\n",
    "        string = ''\n",
    "        if current:\n",
    "            while current.next:\n",
    "                string += str(current.data) + ','\n",
    "                current = current.next\n",
    "        return string"
   ]
  },
  {
   "cell_type": "markdown",
   "id": "f6786d6f-8b20-4ad5-9cf1-4aa554da17fd",
   "metadata": {},
   "source": [
    "-- Solucionar problemas en el chunck anterior -- "
   ]
  },
  {
   "cell_type": "code",
   "execution_count": null,
   "id": "e871e762-0cfe-4331-876c-01e010e74c47",
   "metadata": {},
   "outputs": [],
   "source": [
    "p = SingleLinkedList()\n",
    "p.append(1)"
   ]
  },
  {
   "cell_type": "markdown",
   "id": "14c7b17b-1702-44aa-a86b-f05b16c1927d",
   "metadata": {},
   "source": [
    "## Tipado dinámico y tipado estático"
   ]
  },
  {
   "cell_type": "code",
   "execution_count": 1,
   "id": "baa68a8b-14a3-43c6-b223-77aa84266f21",
   "metadata": {},
   "outputs": [],
   "source": [
    "from typing import List, Dict, Tuple"
   ]
  },
  {
   "cell_type": "code",
   "execution_count": 7,
   "id": "a8a25f6e-4f90-4025-a416-0a73a941b699",
   "metadata": {},
   "outputs": [],
   "source": [
    "a: List[int] = [1,2,3] # lista de enteros"
   ]
  },
  {
   "cell_type": "code",
   "execution_count": 8,
   "id": "d4ebe52b-1945-45fc-ac8b-c49ab8d63d3e",
   "metadata": {},
   "outputs": [],
   "source": [
    "b: List[list] = [[],[]] # Lista de listas"
   ]
  },
  {
   "cell_type": "code",
   "execution_count": 9,
   "id": "e1bb15fb-358e-4118-98cc-628756d96cb6",
   "metadata": {},
   "outputs": [],
   "source": [
    "c: Dict[str, int] = {'dsadsad':324234} # Diccionario cadena : entero"
   ]
  },
  {
   "cell_type": "code",
   "execution_count": 10,
   "id": "14811866-6947-4f1c-b55a-b955eb01bbea",
   "metadata": {},
   "outputs": [],
   "source": [
    "d: List[str] = ['dasdfas'] # Lista de diccionarios"
   ]
  },
  {
   "cell_type": "markdown",
   "id": "4dc9f51c-dbd3-4417-ace1-1592bf79e86d",
   "metadata": {},
   "source": [
    "## Manejo de errores"
   ]
  },
  {
   "cell_type": "code",
   "execution_count": 11,
   "id": "23ed6c20-0eff-480d-86e4-58343008fa43",
   "metadata": {},
   "outputs": [],
   "source": [
    "def f(a:int, b:str):\n",
    "    assert (type(a) == int and type(b) == str), 'tipos de datos invalidos'"
   ]
  },
  {
   "cell_type": "code",
   "execution_count": 12,
   "id": "eb6603a5-bc2e-42aa-b038-a92f00c7c57f",
   "metadata": {},
   "outputs": [
    {
     "ename": "AssertionError",
     "evalue": "tipos de datos invalidos",
     "output_type": "error",
     "traceback": [
      "\u001b[1;31m---------------------------------------------------------------------------\u001b[0m",
      "\u001b[1;31mAssertionError\u001b[0m                            Traceback (most recent call last)",
      "\u001b[1;32m~\\AppData\\Local\\Temp/ipykernel_16608/4127260848.py\u001b[0m in \u001b[0;36m<module>\u001b[1;34m\u001b[0m\n\u001b[1;32m----> 1\u001b[1;33m \u001b[0mf\u001b[0m\u001b[1;33m(\u001b[0m\u001b[1;34m\"2.3\"\u001b[0m\u001b[1;33m,\u001b[0m\u001b[1;34m'v'\u001b[0m\u001b[1;33m)\u001b[0m\u001b[1;33m\u001b[0m\u001b[1;33m\u001b[0m\u001b[0m\n\u001b[0m",
      "\u001b[1;32m~\\AppData\\Local\\Temp/ipykernel_16608/2975923997.py\u001b[0m in \u001b[0;36mf\u001b[1;34m(a, b)\u001b[0m\n\u001b[0;32m      1\u001b[0m \u001b[1;32mdef\u001b[0m \u001b[0mf\u001b[0m\u001b[1;33m(\u001b[0m\u001b[0ma\u001b[0m\u001b[1;33m:\u001b[0m\u001b[0mint\u001b[0m\u001b[1;33m,\u001b[0m \u001b[0mb\u001b[0m\u001b[1;33m:\u001b[0m\u001b[0mstr\u001b[0m\u001b[1;33m)\u001b[0m\u001b[1;33m:\u001b[0m\u001b[1;33m\u001b[0m\u001b[1;33m\u001b[0m\u001b[0m\n\u001b[1;32m----> 2\u001b[1;33m     \u001b[1;32massert\u001b[0m \u001b[1;33m(\u001b[0m\u001b[0mtype\u001b[0m\u001b[1;33m(\u001b[0m\u001b[0ma\u001b[0m\u001b[1;33m)\u001b[0m \u001b[1;33m==\u001b[0m \u001b[0mint\u001b[0m \u001b[1;32mand\u001b[0m \u001b[0mtype\u001b[0m\u001b[1;33m(\u001b[0m\u001b[0mb\u001b[0m\u001b[1;33m)\u001b[0m \u001b[1;33m==\u001b[0m \u001b[0mstr\u001b[0m\u001b[1;33m)\u001b[0m\u001b[1;33m,\u001b[0m \u001b[1;34m'tipos de datos invalidos'\u001b[0m\u001b[1;33m\u001b[0m\u001b[1;33m\u001b[0m\u001b[0m\n\u001b[0m",
      "\u001b[1;31mAssertionError\u001b[0m: tipos de datos invalidos"
     ]
    }
   ],
   "source": [
    "f(\"2.3\",'v')"
   ]
  },
  {
   "cell_type": "code",
   "execution_count": 13,
   "id": "08c26cc7-a1a3-414d-bf9f-1a3d43c5617a",
   "metadata": {},
   "outputs": [
    {
     "name": "stdout",
     "output_type": "stream",
     "text": [
      "Hubo un error division by zero\n",
      "blablabla\n"
     ]
    }
   ],
   "source": [
    "try:\n",
    "    a = 1/0\n",
    "except Exception as e:\n",
    "    print('Hubo un error', e)\n",
    "finally:\n",
    "    print('blablabla')"
   ]
  },
  {
   "cell_type": "markdown",
   "id": "8827f7d5-7d36-47d3-afdf-a6d1697cc9fb",
   "metadata": {},
   "source": [
    "## Iteradores "
   ]
  },
  {
   "cell_type": "code",
   "execution_count": 14,
   "id": "a5e4b181-fa3b-4f37-8c11-f5d3a10c4d31",
   "metadata": {},
   "outputs": [],
   "source": [
    "class NumerosPar:\n",
    "    def __init__(self,maximo=None):\n",
    "        self.maximo = maximo\n",
    "    def __iter__(self):\n",
    "        return self\n",
    "    def __next__(self):\n",
    "        return 1\n"
   ]
  },
  {
   "cell_type": "code",
   "execution_count": 15,
   "id": "a53bc290-ca31-44cc-8a72-6e851f9ceaa5",
   "metadata": {},
   "outputs": [],
   "source": [
    "n = NumerosPar()"
   ]
  },
  {
   "cell_type": "code",
   "execution_count": 17,
   "id": "9ef08b0f-02d4-473e-b5ae-ec126fe017ef",
   "metadata": {},
   "outputs": [],
   "source": [
    "n.maximo = 9"
   ]
  },
  {
   "cell_type": "code",
   "execution_count": 18,
   "id": "90753fd9-e053-4137-8996-b37997ec6f2d",
   "metadata": {},
   "outputs": [
    {
     "data": {
      "text/plain": [
       "<__main__.NumerosPar at 0x219ea404d00>"
      ]
     },
     "execution_count": 18,
     "metadata": {},
     "output_type": "execute_result"
    }
   ],
   "source": [
    "iter(n)"
   ]
  },
  {
   "cell_type": "markdown",
   "id": "6dc09511-54df-4ad6-8708-f1a7ea9e1c91",
   "metadata": {},
   "source": [
    "## Generadores"
   ]
  },
  {
   "cell_type": "code",
   "execution_count": 19,
   "id": "02e02fbd-a998-4450-aea7-6a24c190e456",
   "metadata": {},
   "outputs": [],
   "source": [
    "def f():\n",
    "    yield 1\n",
    "    yield 2\n",
    "    yield 3\n",
    "    yield 4"
   ]
  },
  {
   "cell_type": "code",
   "execution_count": 35,
   "id": "21e513e7-c783-4698-8c9e-f8c7309a6ff9",
   "metadata": {},
   "outputs": [],
   "source": [
    "a = f()"
   ]
  },
  {
   "cell_type": "markdown",
   "id": "fd493e3d-c557-455a-b987-866822aeb5d9",
   "metadata": {},
   "source": [
    "Si corremos el codigo 'next(a)' devolvera el numero siguiente hasta llegar al ultimo valor de yield, despues de eso devolvera un error"
   ]
  },
  {
   "cell_type": "code",
   "execution_count": 31,
   "id": "1538db10-0786-4b69-b312-c009b6939327",
   "metadata": {},
   "outputs": [
    {
     "data": {
      "text/plain": [
       "3"
      ]
     },
     "execution_count": 31,
     "metadata": {},
     "output_type": "execute_result"
    }
   ],
   "source": [
    "next(a)"
   ]
  },
  {
   "cell_type": "code",
   "execution_count": 36,
   "id": "595881c1-d728-431f-aebe-5f2fe188e6da",
   "metadata": {},
   "outputs": [
    {
     "name": "stdout",
     "output_type": "stream",
     "text": [
      "1\n",
      "2\n",
      "3\n",
      "4\n"
     ]
    }
   ],
   "source": [
    "for elemento in a: \n",
    "    print(elemento) # Mostraremos todos los elementos de a"
   ]
  },
  {
   "cell_type": "markdown",
   "id": "9bbaf7e5-94ac-4dac-b584-f5a9a050a5f2",
   "metadata": {},
   "source": [
    "Haciendo la serie fibonachi de manera mas rapida\n",
    " 0,1,1,2,3,5,8..."
   ]
  },
  {
   "cell_type": "code",
   "execution_count": 37,
   "id": "cd1a9113-096b-411c-8518-de4baa110843",
   "metadata": {},
   "outputs": [],
   "source": [
    "def fibGen():\n",
    "    n_1 =0\n",
    "    n_2 =1\n",
    "    c = -1\n",
    "    while True:\n",
    "        c +=1\n",
    "        if c == 0:\n",
    "            yield n_1\n",
    "        elif c ==1:\n",
    "            yield n_2\n",
    "        else:\n",
    "            aux = n_1 + n_2\n",
    "            # n_1,n_2 = n_2,aux\n",
    "            n_1 = n_2\n",
    "            n_2 = aux\n",
    "            yield aux\n",
    "            "
   ]
  },
  {
   "cell_type": "code",
   "execution_count": 38,
   "id": "14f3ba6d-8654-4dfe-9c16-25ad2fc0a4ae",
   "metadata": {},
   "outputs": [
    {
     "name": "stdout",
     "output_type": "stream",
     "text": [
      "0\n",
      "1\n",
      "1\n",
      "2\n",
      "3\n",
      "5\n",
      "8\n",
      "13\n",
      "21\n",
      "34\n",
      "55\n",
      "89\n",
      "144\n"
     ]
    }
   ],
   "source": [
    "for i in fibGen():\n",
    "    print(i)\n",
    "    if i>100:\n",
    "        break"
   ]
  }
 ],
 "metadata": {
  "kernelspec": {
   "display_name": "Python 3 (ipykernel)",
   "language": "python",
   "name": "python3"
  },
  "language_info": {
   "codemirror_mode": {
    "name": "ipython",
    "version": 3
   },
   "file_extension": ".py",
   "mimetype": "text/x-python",
   "name": "python",
   "nbconvert_exporter": "python",
   "pygments_lexer": "ipython3",
   "version": "3.9.7"
  }
 },
 "nbformat": 4,
 "nbformat_minor": 5
}
