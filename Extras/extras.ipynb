{
 "cells": [
  {
   "cell_type": "markdown",
   "id": "a79b0d95-2ff0-4ef5-8936-a8f492805daf",
   "metadata": {},
   "source": [
    "## Estos son ejercios extras relacionados con el desarrollo de software, la programación competiviva y demas."
   ]
  }
 ],
 "metadata": {
  "kernelspec": {
   "display_name": "Python 3 (ipykernel)",
   "language": "python",
   "name": "python3"
  },
  "language_info": {
   "codemirror_mode": {
    "name": "ipython",
    "version": 3
   },
   "file_extension": ".py",
   "mimetype": "text/x-python",
   "name": "python",
   "nbconvert_exporter": "python",
   "pygments_lexer": "ipython3",
   "version": "3.9.7"
  }
 },
 "nbformat": 4,
 "nbformat_minor": 5
}
